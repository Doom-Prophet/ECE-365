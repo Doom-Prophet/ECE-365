{
 "cells": [
  {
   "cell_type": "markdown",
   "metadata": {},
   "source": [
    "# Lab 2: Sequence Alignment"
   ]
  },
  {
   "cell_type": "markdown",
   "metadata": {},
   "source": [
    "### Name: zicheng5 (Your netid here)"
   ]
  },
  {
   "cell_type": "markdown",
   "metadata": {},
   "source": [
    "### Due March 18, 2020 11:59 PM\n",
    "\n",
    "#### Preamble (Don't change this)"
   ]
  },
  {
   "cell_type": "markdown",
   "metadata": {},
   "source": [
    "## Important Instructions - \n",
    "\n",
    "1. You are not allowed to use any built-in libraries for calculating Smith-Waterman alignment/score.\n",
    "2. Please implement all the *graded functions* in main.py file. Do not change function names in main.py.\n",
    "3. Please read the description of every graded function very carefully. The description clearly states what is the expectation of each graded function. \n",
    "4. After some graded functions, there is a cell which you can run and see if the expected output matches the output you are getting. \n",
    "5. The expected output provided is just a way for you to assess the correctness of your code. The code will be tested on several other cases as well."
   ]
  },
  {
   "cell_type": "code",
   "execution_count": 1,
   "metadata": {},
   "outputs": [],
   "source": [
    "import random\n",
    "import matplotlib.pyplot as plt\n",
    "import seaborn as sns\n",
    "import pandas as pd\n",
    "import statsmodels.api as sm \n",
    "import numpy as np\n",
    "import pickle"
   ]
  },
  {
   "cell_type": "markdown",
   "metadata": {},
   "source": [
    "# Sequence Alignment"
   ]
  },
  {
   "cell_type": "markdown",
   "metadata": {},
   "source": [
    "In this lab, we will look into performing sequence alignment between genomic sequences.\n",
    "As we discussed in class, this is a key computational task in genomics.\n",
    "In particular, sequence alignment is used in the following two scenarios:\n",
    "* When we sequence the DNA of an organism that we have never sequenced before, we need to align the reads to each other in order to recover the entire genome.\n",
    "* When we sequence the DNA of an organism for which a reference genome is available (e.g., humans), we need to align the reads to the reference genome.\n",
    "\n",
    "Abstractly, in the sequence alignment problem, we are given two sequences $x$ and $y$, and we want to place gaps (represented by ‘-’) in $x$ and $y$ so that the resulting sequences “line up well”.\n",
    "For example, if $x = AGGCTAGTT$ and $y = AGCGAAGTTT$, a \"good\" alignment is \n",
    "\n",
    "```\n",
    "AGGC-TA-GTT-\n",
    "AG-CG-AAGTTT\n",
    "```\n",
    "\n",
    "As we discussed in class, the Smith-Waterman algorithm assigns scores/penalties to matches, mismatches, and gaps gaps, and then computes the alignment between the two sequences that maximizes the total score.\n",
    "\n",
    "The Smith-Waterman algorithm performs *local* sequence alignment. This means that we are looking for a substring of x and a substring of y with the largest possible alignment score.\n",
    "For example, if our scores are +1 for match, -1 for mismatch, -1 for gap and we want to align $x = CCCCGATTACAGGGG$ and $y = GGGGGATACACCCC$, then the best possible local alignment is\n",
    "\n",
    "```\n",
    "GATTACA\n",
    "GAT_ACA\n",
    "```\n",
    "\n",
    "which has score 6-1=5. Notice that the gaps in the beginning and in the end don't \n"
   ]
  },
  {
   "cell_type": "markdown",
   "metadata": {},
   "source": [
    "### PacBio data\n",
    "\n",
    "We will start with the same PacBio data from Lab 1. \n",
    "PacBio reads are typically long, and aligning them can be challenging in practice."
   ]
  },
  {
   "cell_type": "code",
   "execution_count": 2,
   "metadata": {},
   "outputs": [],
   "source": [
    "#reading PacBio data\n",
    "with open('dna_reads_pac-bio.data', 'rb') as filehandle:\n",
    "    dna_reads_pac=pickle.load(filehandle)"
   ]
  },
  {
   "cell_type": "code",
   "execution_count": 12,
   "metadata": {},
   "outputs": [],
   "source": [
    "%run main.py"
   ]
  },
  {
   "cell_type": "markdown",
   "metadata": {},
   "source": [
    "The following line creates an object from the class in *main.py*. **Do not change the class name and function headers!**"
   ]
  },
  {
   "cell_type": "code",
   "execution_count": 13,
   "metadata": {},
   "outputs": [],
   "source": [
    "module = Lab2()"
   ]
  },
  {
   "cell_type": "markdown",
   "metadata": {},
   "source": [
    "## Graded Function 1: smith_waterman_alignment  (10 marks)\n",
    "\n",
    "Purpose - To perform local sequence alignment between two DNA sequences and identify sequence similarity using the Smith-Waterman algorithm. You should calculate alignment score between every two points in the sequences and record the maximum score.\n",
    "\n",
    "Input - two sequences and a dictionary with penalties for match, mismatch and gap (e.g., `penalties={'match':1,'mismatch':-1,'gap':-1}`)\n",
    "\n",
    "Output - an integer value which is the maximum smith waterman alignment score"
   ]
  },
  {
   "cell_type": "code",
   "execution_count": 10,
   "metadata": {},
   "outputs": [],
   "source": [
    "penalties={'match':1,'mismatch':-1,'gap':-1}"
   ]
  },
  {
   "cell_type": "code",
   "execution_count": 11,
   "metadata": {},
   "outputs": [
    {
     "name": "stdout",
     "output_type": "stream",
     "text": [
      "593\n"
     ]
    }
   ],
   "source": [
    "# Note this may take some time to compute\n",
    "print(module.smith_waterman_alignment(dna_reads_pac[0],dna_reads_pac[1],penalties))"
   ]
  },
  {
   "cell_type": "markdown",
   "metadata": {},
   "source": [
    "### Expected Output - \n",
    "\n",
    "593"
   ]
  },
  {
   "cell_type": "markdown",
   "metadata": {},
   "source": [
    "As you noticed, finding the optimal alignment between two long PacBio reads takes a while. \n",
    "Imagine doing this for hundreds of thousands of reads!\n",
    "Some of the indexing techniques that we will explore later in this lab can be used in practice to accelerate this process."
   ]
  },
  {
   "cell_type": "markdown",
   "metadata": {},
   "source": [
    "## Graded Function 2: print_smith_waterman_alignment  (10 marks)\n",
    "\n",
    "Purpose - To perform local sequence alignment between two DNA sequences and return the resulting alignment in a nice fashion, like:\n",
    "\n",
    "```\n",
    "AGGC-TA-GTT-\n",
    "AG-CG-AAGTTT\n",
    "```\n",
    "\n",
    "Input - two sequences and a dictionary with penalities for match, mismatch and gap\n",
    "\n",
    "Output - return a tuple with two strings showing the two sequences with '-' representing the gaps"
   ]
  },
  {
   "cell_type": "code",
   "execution_count": 23,
   "metadata": {},
   "outputs": [
    {
     "data": {
      "text/plain": [
       "('MI-SPEL', 'MISSPEL')"
      ]
     },
     "execution_count": 23,
     "metadata": {},
     "output_type": "execute_result"
    }
   ],
   "source": [
    "%run main.py\n",
    "module = Lab2()\n",
    "x = \"MISPEL\"\n",
    "y = \"MISSPELL\"\n",
    "module.print_smith_waterman_alignment(x,y,penalties)"
   ]
  },
  {
   "cell_type": "markdown",
   "metadata": {},
   "source": [
    "### Expected Output - \n",
    "\n",
    "``('MI-SPEL', 'MISSPEL')``\n",
    "\n",
    "or \n",
    "\n",
    "``('MIS-PEL', 'MISSPEL')``"
   ]
  },
  {
   "cell_type": "markdown",
   "metadata": {},
   "source": [
    "# Aligning reads to a (long) genome\n",
    "\n",
    "While the Smith-Waterman algorithm can provide local alignments between two sequences of arbitrary lengths, it is too slow to be used to align reads to a long genome.\n",
    "As we discussed in class, when we are trying to align reads to a long genome, we typically rely on an indexing scheme (based on hash functions, or a Python dictionary) to quickly identify matches."
   ]
  },
  {
   "cell_type": "markdown",
   "metadata": {},
   "source": [
    "We will consider two genome files.\n",
    "The first one is a short fake genome in the file \"fakegenome.fasta\".\n",
    "\n",
    "The second one is the *Saccharomyces cerevisiae* (Brewer's yeast) genome.\n",
    "The *S. cerevisiae* genome was the first eukaryotic genome to be fully sequenced.\n",
    "It contains 16 chromosomes for a total genome length of about 12 million base-pairs."
   ]
  },
  {
   "cell_type": "code",
   "execution_count": 24,
   "metadata": {},
   "outputs": [],
   "source": [
    "fakegenome_file=\"\"\n",
    "with open(\"fakegenome.fasta\") as file:\n",
    "    fakegenome_file=file.read()\n",
    "\n",
    "saccha_file=\"\"\n",
    "with open(\"saccha.fasta\") as file:\n",
    "    saccha_file=file.read()"
   ]
  },
  {
   "cell_type": "code",
   "execution_count": 25,
   "metadata": {},
   "outputs": [
    {
     "name": "stdout",
     "output_type": "stream",
     "text": [
      ">chr1\n",
      "GATTACA\n",
      ">chr2\n",
      "CAGATTTACACATACA\n",
      ">chr3\n",
      "CACACACA\n",
      "\n",
      "\n",
      ">chr1\n",
      "CCACACCACACCCACACACCCACACACCACACCACACACCACACCACACCCACACACACA\n",
      "CATCCTAACACTACCCTAACACAGCCCTAATCTAACCCTGGCCAACCTGTCTCTCAACTT\n",
      "ACCCTCCATTACCCTGCCTCCACTCGTTACCCTGTCCCATTCAACCATACCACTCCGAAC\n",
      "CACCATCCATCCCTCTACTTACTACCACTCACCCACCGTTACCCTCCAATTACCCATATC\n",
      "CAACCCACTGCCACTTACCCTACCATTACCCTACCATCCACCATGACCTA\n"
     ]
    }
   ],
   "source": [
    "# let's print the fakegenome file and the beginning of the S. cerevisiae file:\n",
    "\n",
    "print(fakegenome_file)\n",
    "print()\n",
    "print(saccha_file[:300])"
   ]
  },
  {
   "cell_type": "markdown",
   "metadata": {},
   "source": [
    "Notice that the chromosomes are separated by a line that only contains \">chrN\", where N is the chromosome number"
   ]
  },
  {
   "cell_type": "markdown",
   "metadata": {},
   "source": [
    "## Graded Function 3 : find_exact_matches(list_of_reads,genome_file)\n",
    "\n",
    "Pupose - To check whether each of the reads in list_of_reads is present (exactly) somewhere in the genome and, if so, return the location. The location should be specified as \"chr2:120000\" (for a read that starts at position 120000 of chromosome 2)\n",
    "\n",
    "Input - list of reads **of the same length** and a genome fasta file (converted into a single string)\n",
    "\n",
    "Output - a list with the same length as list_of_reads, where the ith element is a list of all locations (starting positions) in the genome where the ith read appears. The starting positions should be specified using the \"chr2:120000\" format\n",
    "\n",
    "Note: Avoid using Python packages and built-in functions to do search operations (such as the find function). The goal of this problem is for you to practice using Python dictionaries to build a genome index that can help finding matches quickly.\n",
    "\n",
    "Note: Genomic locations should be spaced using 1-based indexing. For example, the first position of chromosome 3 should be specified as ``chr3:1`` (and not ``chr3:0``)"
   ]
  },
  {
   "cell_type": "code",
   "execution_count": 33,
   "metadata": {},
   "outputs": [
    {
     "name": "stdout",
     "output_type": "stream",
     "text": [
      "[['chr1:1', 'chr2:3'], ['chr1:4', 'chr2:7', 'chr2:13'], ['chr2:9', 'chr3:1', 'chr3:3', 'chr3:5']]\n"
     ]
    }
   ],
   "source": [
    "%run main.py\n",
    "module = Lab2()\n",
    "list_of_fake_reads = ['GATT','TACA','CACA']\n",
    "print(module.find_exact_matches(list_of_fake_reads,fakegenome_file))"
   ]
  },
  {
   "cell_type": "markdown",
   "metadata": {},
   "source": [
    "### Expected Output - \n",
    "\n",
    "``[['chr1:1', 'chr2:3'], ['chr1:4', 'chr2:7', 'chr2:13'], ['chr2:9', 'chr3:1', 'chr3:3', 'chr3:5']]``"
   ]
  },
  {
   "cell_type": "code",
   "execution_count": null,
   "metadata": {},
   "outputs": [],
   "source": [
    "read0 = \"CCACACCACACCCACACACCCACACACCACACCACACACCACACCACACC\"\n",
    "read1 = \"CACACCACACCACACCCACACACACACATCCTAACACTACCCTAACACAG\"\n",
    "read2 = \"CTCGCTGTCACTCCTTACCCGGCTTTCTGACCGAAATTAAAAAAAAAAAA\"\n",
    "read3 = \"TTTAAACTTACGATTATGTGATTTGATGAGGTCAATCAACAGATTAACCA\"\n",
    "read4 = \"CTGTATGGCTATACGATTATGTGGGCTACCAACAGATTGGTCACTTTCCT\"\n",
    "read5 = \"GGGTCCGATGTTGGATTGAAATCCCAAGGTGCTATTTCTATATTTATATA\"\n",
    "list_of_reads = [read0,read1,read2,read3,read4]\n",
    "\n",
    "print(module.find_exact_matches(list_of_reads,saccha_file))"
   ]
  },
  {
   "cell_type": "markdown",
   "metadata": {},
   "source": [
    "# Aligning reads with errors/mutations to a (long) genome\n",
    "\n",
    "When the reads may have discrepancies with respect to the reference genome (which could be sequencing errors or mutations), we need to be more clever with our indexing.\n",
    "\n",
    "In the following, we will use the same two genome files (fakegenome_file and saccha_file) from above, but consider reads with errors/mutations."
   ]
  },
  {
   "cell_type": "markdown",
   "metadata": {},
   "source": [
    "## Graded Function 4 : find_approximate_matches(list_of_reads,genome_file)\n",
    "\n",
    "Purpose - To return the locations in the genome file which have the highest Smith-Waterman alignment score for each of the reads in list_of_reads. All reads in the list will have the same length, say $L$. For each read, your goal is to find a segment of length $L$ in the genome with the largest Smith-Waterman alignment score with the read. \n",
    "\n",
    "Notice that simply running Smith-Waterman between a read and every length-$L$ segment in the genome is impractical (and will take too long). Instead you should use an indexing scheme, based on Python dictionaries, to first identify candidate locations in the genome, and then use the Smith-Waterman algorithm to find the alignment score.\n",
    "\n",
    "For Smith-Waterman, you should use penalties={'match':1,'mismatch':-1,'gap':-1}.\n",
    "\n",
    "Input - list of reads of the same length and a genome fasta file (converted into a single string)\n",
    "\n",
    "Output - a list with the same length as list_of_reads, where the ith element is a list of all locations (starting positions) in the genome which have the highest Smith-Waterman alignment score with the ith read in list_of_reads\n",
    "\n",
    "Note: The location should be specified as \"chr2:120000\" (for the length-$L$ segment that starts at position 120000 of chromosome 2). As in Graded function 3, you should specify the position using 1-based indexing; i.e., the chromosome starts at position 1, not at 0).\n",
    "\n",
    "Note: there can be more than one position for a particular read which have the same highest score. You should include all of them as a list.\n",
    "\n",
    "**Hint:** For all cases that we will be checking, you can choose the substring length (for the genome index) to be $k = L/4$. We will only use lengths $L$ that are divisible by 4."
   ]
  },
  {
   "cell_type": "code",
   "execution_count": null,
   "metadata": {},
   "outputs": [],
   "source": [
    "%run main.py\n",
    "module = Lab2()"
   ]
  },
  {
   "cell_type": "code",
   "execution_count": null,
   "metadata": {},
   "outputs": [],
   "source": [
    "print(fakegenome_file)"
   ]
  },
  {
   "cell_type": "code",
   "execution_count": null,
   "metadata": {},
   "outputs": [],
   "source": [
    "print(module.find_approximate_matches([\"GATTACAT\",\"CACAAACA\"],fakegenome_file))"
   ]
  },
  {
   "cell_type": "markdown",
   "metadata": {},
   "source": [
    "### Expected Output - \n",
    "\n",
    "``[['chr2:3'], ['chr2:9', 'chr3:1']]``"
   ]
  },
  {
   "cell_type": "code",
   "execution_count": null,
   "metadata": {},
   "outputs": [],
   "source": [
    "read0 = \"TGCAGATTGCTCCTACGCTTGACAATGTCGGATCCGATACCGATCTGATTCATATCGATACAGTTAGTGCCATTAACGAGCAATTTCTAAGACTGCACTG\"\n",
    "read1 = \"ACGTAAAAAATGTAGCAGACTCGATCTCCTCTTCTGATGAAATCCTAGTTCCTTCGAGACTCGCTGATGTTACGCTAGCATTCATGGAGGAGAATGACGC\"\n",
    "read2 = \"AAGTGGAAAGAAAGAAGGGTGACAAGTTCGTCGCTTGTTTCACAAGATTACCAACGCCAGCCATATTGTAACATAGATGTATAACTAGAACAATTTACCA\"\n",
    "read3 = \"CCACACCACACCCACACACCCACACACCACACCACACACCCACCACACCCACACACACACATCCTAACAACTACCCTAACACAGCCCTAATCTAACCCTG\"\n",
    "\n",
    "list_of_reads = [read0,read1,read2,read3]\n",
    "\n",
    "print(module.find_approximate_matches(list_of_reads,saccha_file))"
   ]
  }
 ],
 "metadata": {
  "kernelspec": {
   "display_name": "Python 3",
   "language": "python",
   "name": "python3"
  },
  "language_info": {
   "codemirror_mode": {
    "name": "ipython",
    "version": 3
   },
   "file_extension": ".py",
   "mimetype": "text/x-python",
   "name": "python",
   "nbconvert_exporter": "python",
   "pygments_lexer": "ipython3",
   "version": "3.6.5"
  }
 },
 "nbformat": 4,
 "nbformat_minor": 2
}
